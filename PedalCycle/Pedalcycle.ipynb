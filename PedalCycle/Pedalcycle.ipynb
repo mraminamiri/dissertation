{
 "cells": [
  {
   "cell_type": "code",
   "id": "initial_id",
   "metadata": {
    "collapsed": true,
    "ExecuteTime": {
     "end_time": "2024-06-24T23:41:33.803747Z",
     "start_time": "2024-06-24T23:41:33.567593Z"
    }
   },
   "source": [
    "import pandas as pd\n",
    "import numpy as np \n",
    "import matplotlib.pyplot as plt\n",
    "import seaborn as sns\n",
    "import seaborn as sns\n",
    "import matplotlib.pyplot as plt\n",
    "from sklearn.cluster import KMeans\n",
    "from sklearn.preprocessing import StandardScaler, LabelEncoder\n",
    "from sklearn.cluster import KMeans\n",
    "from sklearn.model_selection import train_test_split\n",
    "from sklearn.ensemble import RandomForestClassifier\n",
    "from sklearn.metrics import accuracy_score, classification_report\n",
    "from sklearn.metrics import confusion_matrix\n",
    "from sklearn.linear_model import LogisticRegression\n",
    "from sklearn.model_selection import train_test_split\n",
    "from sklearn.tree import DecisionTreeClassifier\n",
    "from sklearn.metrics import accuracy_score, classification_report, confusion_matrix\n",
    "import matplotlib.pyplot as plt\n",
    "import seaborn as sns\n",
    "from sklearn.linear_model import LinearRegression\n",
    "from sklearn.model_selection import train_test_split\n",
    "from sklearn.metrics import mean_squared_error, r2_score\n",
    "import numpy as np\n",
    "import pandas as pd\n",
    "import numpy as np \n",
    "import matplotlib.pyplot as plt\n",
    "import seaborn as sns\n",
    "import seaborn as sns\n",
    "import matplotlib.pyplot as plt\n",
    "from sklearn.cluster import KMeans\n",
    "from sklearn.preprocessing import StandardScaler, LabelEncoder\n",
    "from sklearn.cluster import KMeans\n",
    "from sklearn.model_selection import train_test_split\n",
    "from sklearn.ensemble import RandomForestClassifier\n",
    "from sklearn.metrics import accuracy_score, classification_report\n",
    "from sklearn.metrics import confusion_matrix\n",
    "from sklearn.linear_model import LogisticRegression\n",
    "from sklearn.model_selection import train_test_split\n",
    "from sklearn.tree import DecisionTreeClassifier\n",
    "from sklearn.metrics import accuracy_score, classification_report, confusion_matrix\n",
    "import matplotlib.pyplot as plt\n",
    "import seaborn as sns\n",
    "from sklearn.linear_model import LinearRegression\n",
    "from sklearn.model_selection import train_test_split\n",
    "from sklearn.metrics import mean_squared_error, r2_score\n",
    "import numpy as np\n",
    "import pandas as pd \n",
    "import numpy as np\n",
    "import seaborn as sns\n",
    "from sklearn.preprocessing import StandardScaler\n",
    "from sklearn.model_selection import train_test_split\n",
    "from sklearn.metrics import accuracy_score\n",
    "from sklearn.tree import DecisionTreeClassifier\n",
    "from sklearn.linear_model import LogisticRegression\n",
    "from sklearn.metrics import precision_score,recall_score,f1_score\n",
    "from sklearn.metrics import confusion_matrix\n",
    "from sklearn.svm import SVC"
   ],
   "outputs": [],
   "execution_count": 1
  },
  {
   "metadata": {
    "ExecuteTime": {
     "end_time": "2024-06-24T23:41:34.617568Z",
     "start_time": "2024-06-24T23:41:34.550426Z"
    }
   },
   "cell_type": "code",
   "source": "data=pd.read_csv('imbalancedFinal.csv')\n",
   "id": "28685e401e228a30",
   "outputs": [],
   "execution_count": 2
  },
  {
   "metadata": {
    "ExecuteTime": {
     "end_time": "2024-06-24T23:41:35.167891Z",
     "start_time": "2024-06-24T23:41:35.159296Z"
    }
   },
   "cell_type": "code",
   "source": [
    "filtered_data4 = data[data['Road user'] == 3]\n",
    "filtered_data4.shape"
   ],
   "id": "d93e89c974f94b69",
   "outputs": [
    {
     "data": {
      "text/plain": [
       "(12354, 15)"
      ]
     },
     "execution_count": 3,
     "metadata": {},
     "output_type": "execute_result"
    }
   ],
   "execution_count": 3
  },
  {
   "metadata": {
    "ExecuteTime": {
     "end_time": "2024-06-24T23:41:35.694456Z",
     "start_time": "2024-06-24T23:41:35.681902Z"
    }
   },
   "cell_type": "code",
   "source": [
    "num_bins = 2\n",
    "\n",
    "bed_days_min = filtered_data4['Severity'].min()\n",
    "bed_days_max = filtered_data4['Severity'].max()\n",
    "\n",
    "bin_width = (bed_days_max - bed_days_min) / num_bins\n",
    "bins = [bed_days_min + i * bin_width for i in range(num_bins + 1)]\n",
    "\n",
    "def bin_function(x):\n",
    "    for i in range(1, len(bins)):\n",
    "        if x <= bins[i]:\n",
    "            return i - 1\n",
    "    return i\n",
    "\n",
    "filtered_data4['Bed_days_category'] = filtered_data4['Severity'].apply(bin_function)"
   ],
   "id": "b2902ffcb37b0167",
   "outputs": [
    {
     "name": "stderr",
     "output_type": "stream",
     "text": [
      "/var/folders/3l/xh28kn0j7_7d5hh7fgz188940000gn/T/ipykernel_3294/3159902379.py:15: SettingWithCopyWarning: \n",
      "A value is trying to be set on a copy of a slice from a DataFrame.\n",
      "Try using .loc[row_indexer,col_indexer] = value instead\n",
      "\n",
      "See the caveats in the documentation: https://pandas.pydata.org/pandas-docs/stable/user_guide/indexing.html#returning-a-view-versus-a-copy\n",
      "  filtered_data4['Bed_days_category'] = filtered_data4['Severity'].apply(bin_function)\n"
     ]
    }
   ],
   "execution_count": 4
  },
  {
   "metadata": {
    "ExecuteTime": {
     "end_time": "2024-06-24T23:41:36.681584Z",
     "start_time": "2024-06-24T23:41:36.674128Z"
    }
   },
   "cell_type": "code",
   "source": "filtered_data4['Bed_days_category'].value_counts()\n",
   "id": "132e50415aae1252",
   "outputs": [
    {
     "data": {
      "text/plain": [
       "0    12262\n",
       "1       92\n",
       "Name: Bed_days_category, dtype: int64"
      ]
     },
     "execution_count": 5,
     "metadata": {},
     "output_type": "execute_result"
    }
   ],
   "execution_count": 5
  },
  {
   "metadata": {
    "ExecuteTime": {
     "end_time": "2024-06-24T23:41:37.518029Z",
     "start_time": "2024-06-24T23:41:37.353157Z"
    }
   },
   "cell_type": "code",
   "source": [
    "from xgboost import XGBClassifier\n",
    "\n",
    "\n",
    "X = filtered_data4[['Calendar year','Month','Cause of injury','Age group','Sex','Counterparty','ABS remoteness area','Road user']]\n",
    "\n",
    "\n",
    "y = filtered_data4['Bed_days_category']\n",
    "\n",
    "\n",
    "\n",
    "X_train , X_test , y_train, y_test = train_test_split(X, y, test_size=0.3, random_state=42)\n",
    "\n",
    "xgb_model = XGBClassifier(random_state=42)\n",
    "\n",
    "xgb_model.fit(X_train, y_train)\n",
    "\n",
    "\n",
    "y_pred_xgb = xgb_model.predict(X_test)\n",
    "\n",
    "acc_xgb = accuracy_score(y_test, y_pred_xgb)\n",
    "conf_matrix_xgb = confusion_matrix(y_test, y_pred_xgb)\n",
    "class_report_xgb = classification_report(y_test, y_pred_xgb)\n",
    "\n",
    "precision_xgb = precision_score(y_test, y_pred_xgb) \n",
    "recall_xgb = recall_score(y_test, y_pred_xgb)\n",
    "f1_xgb = f1_score(y_test, y_pred_xgb)\n",
    "print('Accuracy:', acc_xgb)\n",
    "print('Confusion Matrix:\\n', conf_matrix_xgb)\n",
    "print('Classification Report:\\n', class_report_xgb)\n",
    "print('Precision:', precision_xgb)\n",
    "print('Recall:', recall_xgb)\n",
    "print('F1-score:', f1_xgb)"
   ],
   "id": "8d8eaa1df0438372",
   "outputs": [
    {
     "name": "stdout",
     "output_type": "stream",
     "text": [
      "Accuracy: 0.9962233612085244\n",
      "Confusion Matrix:\n",
      " [[3671    6]\n",
      " [   8   22]]\n",
      "Classification Report:\n",
      "               precision    recall  f1-score   support\n",
      "\n",
      "           0       1.00      1.00      1.00      3677\n",
      "           1       0.79      0.73      0.76        30\n",
      "\n",
      "    accuracy                           1.00      3707\n",
      "   macro avg       0.89      0.87      0.88      3707\n",
      "weighted avg       1.00      1.00      1.00      3707\n",
      "\n",
      "Precision: 0.7857142857142857\n",
      "Recall: 0.7333333333333333\n",
      "F1-score: 0.7586206896551724\n"
     ]
    }
   ],
   "execution_count": 6
  },
  {
   "metadata": {
    "ExecuteTime": {
     "end_time": "2024-06-24T23:43:40.773748Z",
     "start_time": "2024-06-24T23:43:39.318735Z"
    }
   },
   "cell_type": "code",
   "source": [
    "y_pred_proba_svm = xgb_model.predict_proba(X_train)\n",
    "\n",
    "thresholds = np.linspace(0, 1, 1000)\n",
    "f1_scores = []\n",
    "for threshold in thresholds:\n",
    "    y_pred_threshold = (y_pred_proba_svm[:, 1] >= threshold).astype(int)\n",
    "    f1_scores.append(f1_score(y_train, y_pred_threshold))\n",
    "\n",
    "best_threshold_index = np.argmax(f1_scores)\n",
    "best_threshold = thresholds[best_threshold_index]\n",
    "best_f1_score = f1_scores[best_threshold_index]\n",
    "\n",
    "print(\"بهترین آستانه با توجه به F1 Score:\", best_threshold)\n",
    "print(\"مقدار F1 Score بهترین آستانه:\", best_f1_score)"
   ],
   "id": "d1fecb8e4d406f15",
   "outputs": [
    {
     "name": "stdout",
     "output_type": "stream",
     "text": [
      "بهترین آستانه با توجه به F1 Score: 0.25725725725725723\n",
      "مقدار F1 Score بهترین آستانه: 0.9682539682539683\n"
     ]
    }
   ],
   "execution_count": 8
  },
  {
   "metadata": {
    "ExecuteTime": {
     "end_time": "2024-06-24T23:43:56.925241Z",
     "start_time": "2024-06-24T23:43:56.907511Z"
    }
   },
   "cell_type": "code",
   "source": [
    "threshold = 0.25725725725725723\n",
    "\n",
    "probabilities = xgb_model.predict_proba(X_test)\n",
    "\n",
    "thresholded_predictions = (probabilities[:, 1] >= threshold).astype(int)\n",
    "\n",
    "acc_thresholded = accuracy_score(y_test, thresholded_predictions)\n",
    "conf_matrix_thresholded = confusion_matrix(y_test, thresholded_predictions)\n",
    "class_report_thresholded = classification_report(y_test, thresholded_predictions)\n",
    "\n",
    "precision_thresholded = precision_score(y_test, thresholded_predictions) \n",
    "recall_thresholded = recall_score(y_test, thresholded_predictions)\n",
    "f1_thresholded = f1_score(y_test, thresholded_predictions)\n",
    "print('Accuracy:', acc_thresholded)\n",
    "print('Confusion Matrix:\\n', conf_matrix_thresholded)\n",
    "print('Classification Report:\\n', class_report_thresholded)\n",
    "print('Precision:', precision_thresholded)\n",
    "print('Recall:', recall_thresholded)\n",
    "print('F1-score:', f1_thresholded)\n"
   ],
   "id": "a1867b4eb3e7c63d",
   "outputs": [
    {
     "name": "stdout",
     "output_type": "stream",
     "text": [
      "Accuracy: 0.9951443215538172\n",
      "Confusion Matrix:\n",
      " [[3665   12]\n",
      " [   6   24]]\n",
      "Classification Report:\n",
      "               precision    recall  f1-score   support\n",
      "\n",
      "           0       1.00      1.00      1.00      3677\n",
      "           1       0.67      0.80      0.73        30\n",
      "\n",
      "    accuracy                           1.00      3707\n",
      "   macro avg       0.83      0.90      0.86      3707\n",
      "weighted avg       1.00      1.00      1.00      3707\n",
      "\n",
      "Precision: 0.6666666666666666\n",
      "Recall: 0.8\n",
      "F1-score: 0.7272727272727272\n"
     ]
    }
   ],
   "execution_count": 9
  },
  {
   "metadata": {},
   "cell_type": "code",
   "outputs": [],
   "execution_count": null,
   "source": "",
   "id": "31ead5ad5091dd53"
  },
  {
   "metadata": {
    "ExecuteTime": {
     "end_time": "2024-06-23T22:48:18.831584Z",
     "start_time": "2024-06-23T22:48:16.778194Z"
    }
   },
   "cell_type": "code",
   "source": [
    "lr_model = LogisticRegression(random_state=42)\n",
    "lr_model.fit(X_train, y_train)\n",
    "\n",
    "# Evaluate the model\n",
    "y_pred_lr = lr_model.predict(X_test)\n",
    "acc_lr = accuracy_score(y_test, y_pred_lr)\n",
    "conf_matrix_lr = confusion_matrix(y_test, y_pred_lr)\n",
    "class_report_lr = classification_report(y_test, y_pred_lr)\n",
    "precision_lr = precision_score(y_test, y_pred_lr)\n",
    "recall_lr = recall_score(y_test, y_pred_lr)\n",
    "f1_lr = f1_score(y_test, y_pred_lr)\n",
    "\n",
    "print('Accuracy:', acc_lr)\n",
    "print('Confusion Matrix:\\n', conf_matrix_lr)\n",
    "print('Classification Report:\\n', class_report_lr)\n",
    "print('Precision:', precision_lr)\n",
    "print('Recall:', recall_lr)\n",
    "print('F1-score:', f1_lr)"
   ],
   "id": "6cc88d9410f82208",
   "outputs": [
    {
     "name": "stdout",
     "output_type": "stream",
     "text": [
      "Accuracy: 0.9919072025896952\n",
      "Confusion Matrix:\n",
      " [[3677    0]\n",
      " [  30    0]]\n",
      "Classification Report:\n",
      "               precision    recall  f1-score   support\n",
      "\n",
      "           0       0.99      1.00      1.00      3677\n",
      "           1       0.00      0.00      0.00        30\n",
      "\n",
      "    accuracy                           0.99      3707\n",
      "   macro avg       0.50      0.50      0.50      3707\n",
      "weighted avg       0.98      0.99      0.99      3707\n",
      "\n",
      "Precision: 0.0\n",
      "Recall: 0.0\n",
      "F1-score: 0.0\n"
     ]
    },
    {
     "name": "stderr",
     "output_type": "stream",
     "text": [
      "/Users/amin/opt/anaconda3/lib/python3.9/site-packages/sklearn/linear_model/_logistic.py:814: ConvergenceWarning: lbfgs failed to converge (status=1):\n",
      "STOP: TOTAL NO. of ITERATIONS REACHED LIMIT.\n",
      "\n",
      "Increase the number of iterations (max_iter) or scale the data as shown in:\n",
      "    https://scikit-learn.org/stable/modules/preprocessing.html\n",
      "Please also refer to the documentation for alternative solver options:\n",
      "    https://scikit-learn.org/stable/modules/linear_model.html#logistic-regression\n",
      "  n_iter_i = _check_optimize_result(\n",
      "/Users/amin/opt/anaconda3/lib/python3.9/site-packages/sklearn/metrics/_classification.py:1318: UndefinedMetricWarning: Precision and F-score are ill-defined and being set to 0.0 in labels with no predicted samples. Use `zero_division` parameter to control this behavior.\n",
      "  _warn_prf(average, modifier, msg_start, len(result))\n",
      "/Users/amin/opt/anaconda3/lib/python3.9/site-packages/sklearn/metrics/_classification.py:1318: UndefinedMetricWarning: Precision and F-score are ill-defined and being set to 0.0 in labels with no predicted samples. Use `zero_division` parameter to control this behavior.\n",
      "  _warn_prf(average, modifier, msg_start, len(result))\n",
      "/Users/amin/opt/anaconda3/lib/python3.9/site-packages/sklearn/metrics/_classification.py:1318: UndefinedMetricWarning: Precision and F-score are ill-defined and being set to 0.0 in labels with no predicted samples. Use `zero_division` parameter to control this behavior.\n",
      "  _warn_prf(average, modifier, msg_start, len(result))\n",
      "/Users/amin/opt/anaconda3/lib/python3.9/site-packages/sklearn/metrics/_classification.py:1318: UndefinedMetricWarning: Precision is ill-defined and being set to 0.0 due to no predicted samples. Use `zero_division` parameter to control this behavior.\n",
      "  _warn_prf(average, modifier, msg_start, len(result))\n"
     ]
    }
   ],
   "execution_count": 7
  },
  {
   "metadata": {
    "ExecuteTime": {
     "end_time": "2024-06-23T22:49:46.386184Z",
     "start_time": "2024-06-23T22:49:45.603816Z"
    }
   },
   "cell_type": "code",
   "source": [
    "from sklearn.neural_network import MLPClassifier\n",
    "\n",
    "mlp_model = MLPClassifier(hidden_layer_sizes=(64, 32), activation='relu', random_state=42)\n",
    "\n",
    "# آموزش مدل با داده‌های آموزشی\n",
    "mlp_model.fit(X_train\n",
    "              , y_train)\n",
    "\n",
    "# Evaluate the model\n",
    "y_pred_mlp = mlp_model.predict(X_test)\n",
    "acc_mlp = accuracy_score(y_test, y_pred_mlp)\n",
    "conf_matrix_mlp = confusion_matrix(y_test, y_pred_mlp)\n",
    "class_report_mlp = classification_report(y_test, y_pred_mlp)\n",
    "precision_mlp = precision_score(y_test, y_pred_mlp)\n",
    "recall_mlp = recall_score(y_test, y_pred_mlp)\n",
    "f1_mlp = f1_score(y_test, y_pred_mlp)\n",
    "\n",
    "print('Accuracy:', acc_mlp)\n",
    "print('Confusion Matrix:\\n', conf_matrix_mlp)\n",
    "print('Classification Report:\\n', class_report_mlp)\n",
    "print('Precision:', precision_mlp)\n",
    "print('Recall:', recall_mlp)\n",
    "print('F1-score:', f1_mlp)"
   ],
   "id": "1fce278c923e2dc0",
   "outputs": [
    {
     "name": "stdout",
     "output_type": "stream",
     "text": [
      "Accuracy: 0.9919072025896952\n",
      "Confusion Matrix:\n",
      " [[3677    0]\n",
      " [  30    0]]\n",
      "Classification Report:\n",
      "               precision    recall  f1-score   support\n",
      "\n",
      "           0       0.99      1.00      1.00      3677\n",
      "           1       0.00      0.00      0.00        30\n",
      "\n",
      "    accuracy                           0.99      3707\n",
      "   macro avg       0.50      0.50      0.50      3707\n",
      "weighted avg       0.98      0.99      0.99      3707\n",
      "\n",
      "Precision: 0.0\n",
      "Recall: 0.0\n",
      "F1-score: 0.0\n"
     ]
    },
    {
     "name": "stderr",
     "output_type": "stream",
     "text": [
      "/Users/amin/opt/anaconda3/lib/python3.9/site-packages/sklearn/metrics/_classification.py:1318: UndefinedMetricWarning: Precision and F-score are ill-defined and being set to 0.0 in labels with no predicted samples. Use `zero_division` parameter to control this behavior.\n",
      "  _warn_prf(average, modifier, msg_start, len(result))\n",
      "/Users/amin/opt/anaconda3/lib/python3.9/site-packages/sklearn/metrics/_classification.py:1318: UndefinedMetricWarning: Precision and F-score are ill-defined and being set to 0.0 in labels with no predicted samples. Use `zero_division` parameter to control this behavior.\n",
      "  _warn_prf(average, modifier, msg_start, len(result))\n",
      "/Users/amin/opt/anaconda3/lib/python3.9/site-packages/sklearn/metrics/_classification.py:1318: UndefinedMetricWarning: Precision and F-score are ill-defined and being set to 0.0 in labels with no predicted samples. Use `zero_division` parameter to control this behavior.\n",
      "  _warn_prf(average, modifier, msg_start, len(result))\n",
      "/Users/amin/opt/anaconda3/lib/python3.9/site-packages/sklearn/metrics/_classification.py:1318: UndefinedMetricWarning: Precision is ill-defined and being set to 0.0 due to no predicted samples. Use `zero_division` parameter to control this behavior.\n",
      "  _warn_prf(average, modifier, msg_start, len(result))\n"
     ]
    }
   ],
   "execution_count": 8
  },
  {
   "metadata": {
    "ExecuteTime": {
     "end_time": "2024-06-23T22:50:38.786756Z",
     "start_time": "2024-06-23T22:50:38.632007Z"
    }
   },
   "cell_type": "code",
   "source": [
    "model = SVC(random_state=42)\n",
    "model.fit(X_train, y_train)\n",
    "pred = model.predict(X_test)\n",
    "\n",
    "acc = accuracy_score(y_test, pred)\n",
    "conf = confusion_matrix(y_test, pred)\n",
    "class_report = classification_report(y_test, pred)\n",
    "\n",
    "precision = precision_score(y_test, pred) \n",
    "recall = recall_score(y_test, pred)\n",
    "f1 = f1_score(y_test, pred)\n",
    "\n",
    "print('Accuracy:', acc)\n",
    "print('Confusion Matrix:\\n', conf)\n",
    "print('Classification Report:\\n', class_report)\n",
    "print('Precision:', precision)\n",
    "print('Recall:', recall)\n",
    "print('F1-score:', f1)"
   ],
   "id": "b391620a6e2230ba",
   "outputs": [
    {
     "name": "stdout",
     "output_type": "stream",
     "text": [
      "Accuracy: 0.9919072025896952\n",
      "Confusion Matrix:\n",
      " [[3677    0]\n",
      " [  30    0]]\n",
      "Classification Report:\n",
      "               precision    recall  f1-score   support\n",
      "\n",
      "           0       0.99      1.00      1.00      3677\n",
      "           1       0.00      0.00      0.00        30\n",
      "\n",
      "    accuracy                           0.99      3707\n",
      "   macro avg       0.50      0.50      0.50      3707\n",
      "weighted avg       0.98      0.99      0.99      3707\n",
      "\n",
      "Precision: 0.0\n",
      "Recall: 0.0\n",
      "F1-score: 0.0\n"
     ]
    },
    {
     "name": "stderr",
     "output_type": "stream",
     "text": [
      "/Users/amin/opt/anaconda3/lib/python3.9/site-packages/sklearn/metrics/_classification.py:1318: UndefinedMetricWarning: Precision and F-score are ill-defined and being set to 0.0 in labels with no predicted samples. Use `zero_division` parameter to control this behavior.\n",
      "  _warn_prf(average, modifier, msg_start, len(result))\n",
      "/Users/amin/opt/anaconda3/lib/python3.9/site-packages/sklearn/metrics/_classification.py:1318: UndefinedMetricWarning: Precision and F-score are ill-defined and being set to 0.0 in labels with no predicted samples. Use `zero_division` parameter to control this behavior.\n",
      "  _warn_prf(average, modifier, msg_start, len(result))\n",
      "/Users/amin/opt/anaconda3/lib/python3.9/site-packages/sklearn/metrics/_classification.py:1318: UndefinedMetricWarning: Precision and F-score are ill-defined and being set to 0.0 in labels with no predicted samples. Use `zero_division` parameter to control this behavior.\n",
      "  _warn_prf(average, modifier, msg_start, len(result))\n",
      "/Users/amin/opt/anaconda3/lib/python3.9/site-packages/sklearn/metrics/_classification.py:1318: UndefinedMetricWarning: Precision is ill-defined and being set to 0.0 due to no predicted samples. Use `zero_division` parameter to control this behavior.\n",
      "  _warn_prf(average, modifier, msg_start, len(result))\n"
     ]
    }
   ],
   "execution_count": 9
  },
  {
   "metadata": {
    "ExecuteTime": {
     "end_time": "2024-06-23T22:51:28.531942Z",
     "start_time": "2024-06-23T22:51:28.510259Z"
    }
   },
   "cell_type": "code",
   "source": [
    "model =DecisionTreeClassifier(random_state=42)\n",
    "model.fit(X_train, y_train)\n",
    "pred = model.predict(X_test)\n",
    "\n",
    "\n",
    "\n",
    "acc = accuracy_score(y_test, pred)\n",
    "conf = confusion_matrix(y_test, pred)\n",
    "class_report = classification_report(y_test, pred)\n",
    "\n",
    "precision = precision_score(y_test, pred) \n",
    "recall = recall_score(y_test, pred)\n",
    "f1 = f1_score(y_test, pred)\n",
    "\n",
    "print('Accuracy:', acc)\n",
    "print('Confusion Matrix:\\n', conf)\n",
    "print('Classification Report:\\n', class_report)\n",
    "print('Precision:', precision)\n",
    "print('Recall:', recall)\n",
    "print('F1-score:', f1)"
   ],
   "id": "3ee73baf0b7445f0",
   "outputs": [
    {
     "name": "stdout",
     "output_type": "stream",
     "text": [
      "Accuracy: 0.9951443215538172\n",
      "Confusion Matrix:\n",
      " [[3664   13]\n",
      " [   5   25]]\n",
      "Classification Report:\n",
      "               precision    recall  f1-score   support\n",
      "\n",
      "           0       1.00      1.00      1.00      3677\n",
      "           1       0.66      0.83      0.74        30\n",
      "\n",
      "    accuracy                           1.00      3707\n",
      "   macro avg       0.83      0.91      0.87      3707\n",
      "weighted avg       1.00      1.00      1.00      3707\n",
      "\n",
      "Precision: 0.6578947368421053\n",
      "Recall: 0.8333333333333334\n",
      "F1-score: 0.7352941176470588\n"
     ]
    }
   ],
   "execution_count": 10
  },
  {
   "metadata": {},
   "cell_type": "code",
   "outputs": [],
   "execution_count": null,
   "source": "",
   "id": "db6097ac4590fd6c"
  }
 ],
 "metadata": {
  "kernelspec": {
   "display_name": "Python 3",
   "language": "python",
   "name": "python3"
  },
  "language_info": {
   "codemirror_mode": {
    "name": "ipython",
    "version": 2
   },
   "file_extension": ".py",
   "mimetype": "text/x-python",
   "name": "python",
   "nbconvert_exporter": "python",
   "pygments_lexer": "ipython2",
   "version": "2.7.6"
  }
 },
 "nbformat": 4,
 "nbformat_minor": 5
}
